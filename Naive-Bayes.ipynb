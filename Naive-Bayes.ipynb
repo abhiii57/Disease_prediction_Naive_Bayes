{
 "cells": [
  {
   "cell_type": "code",
   "execution_count": null,
   "id": "2475e363-8fa0-469a-8a41-beb1c3be7e61",
   "metadata": {},
   "outputs": [],
   "source": [
    "import numpy as np\n",
    "import pandas as pd\n",
    "from sklearn.naive_bayes import MultinomialNB\n",
    "from sklearn.model_selection import train_test_split\n",
    "from sklearn.metrics import accuracy_score,classification_report,confusion_matrix\n",
    "import seaborn as sns\n",
    "import matplotlib.pyplot as plt\n"
   ]
  },
  {
   "cell_type": "code",
   "execution_count": null,
   "id": "3412b460-a5e5-4333-b293-bfd05ac64e22",
   "metadata": {},
   "outputs": [],
   "source": [
    "data=pd.read_csv(\"Final_Augmented_dataset_Diseases_and_Symptoms.csv\")\n",
    "print(\"shape of dataset:\",data.shape)\n",
    "data.head()"
   ]
  },
  {
   "cell_type": "code",
   "execution_count": null,
   "id": "0ffad3c4-bb11-43d2-86ca-93b3c8f0bc00",
   "metadata": {},
   "outputs": [],
   "source": [
    "data.columns"
   ]
  },
  {
   "cell_type": "code",
   "execution_count": null,
   "id": "04901845-8079-4376-b646-4e81865402f4",
   "metadata": {},
   "outputs": [],
   "source": [
    "X=data.drop(\"diseases\",axis=1) #symptoms from all columns\n",
    "y=data[\"diseases\"] #target\n",
    "\n",
    "print(\"Feature Shape:\",X.shape)\n",
    "print(\"Target Shape:\",y.shape)\n",
    "print(\"Unique Diseases:\",y.nunique())"
   ]
  },
  {
   "cell_type": "code",
   "execution_count": null,
   "id": "74dbac85-d746-4a32-8629-acf56d4f66a0",
   "metadata": {},
   "outputs": [],
   "source": [
    "# removing diseases with only one symptoms\n",
    "count=y.value_counts()\n",
    "valid_classes=count[count>1].index\n",
    "cleaned_data=data[data[\"diseases\"].isin(valid_classes)]\n",
    "\n",
    "#redefining X and Y\n",
    "X=cleaned_data.drop(\"diseases\",axis=1)\n",
    "y=cleaned_data[\"diseases\"]\n",
    "print(\"Dataset Shape After Cleaning:\",cleaned_data.shape)\n",
    "print(\"Remaining Unique Diseases:\",y.unique())\n"
   ]
  },
  {
   "cell_type": "code",
   "execution_count": null,
   "id": "5aab8f14-b71f-4aa5-bcf6-c6d9f49a3bed",
   "metadata": {},
   "outputs": [],
   "source": [
    "#splitting to train and test \n",
    "X_train,X_test,y_train,y_test=train_test_split(X,y,test_size=0.2,random_state=42,stratify=y)\n",
    "print(\"Training Data:\",X_train.shape[0])\n",
    "print(\"Testing data:\",X_test.shape[0])"
   ]
  },
  {
   "cell_type": "code",
   "execution_count": null,
   "id": "ba65cd4b-ac11-4e5f-926f-67f5d19f5887",
   "metadata": {},
   "outputs": [],
   "source": [
    "#training Naive Bayes model\n",
    "model=MultinomialNB()\n",
    "model.fit(X_train,y_train)"
   ]
  },
  {
   "cell_type": "code",
   "execution_count": null,
   "id": "f55f6b08-1a8f-4ad4-bd91-27ab873b265a",
   "metadata": {},
   "outputs": [],
   "source": [
    "prediction=model.predict(X_test)"
   ]
  },
  {
   "cell_type": "code",
   "execution_count": null,
   "id": "716ad0d5-653c-405f-9666-270b0e563d45",
   "metadata": {},
   "outputs": [],
   "source": [
    "accuracy=accuracy_score(y_test,prediction)\n",
    "print(\"Accuracy:\",accuracy)"
   ]
  },
  {
   "cell_type": "code",
   "execution_count": null,
   "id": "9885c903-b886-4084-b91b-998b7fd43dbb",
   "metadata": {},
   "outputs": [],
   "source": [
    "print(\"\\nClassification Report:\")\n",
    "print(classification_report(y_test,prediction))"
   ]
  },
  {
   "cell_type": "code",
   "execution_count": null,
   "id": "a4d5985a-14ee-4a35-99f1-040037d21694",
   "metadata": {},
   "outputs": [],
   "source": [
    "#confusion Matrix\n",
    "cm=confusion_matrix(y_test,prediction)\n",
    "plt.figure(figsize=(10,6))\n",
    "sns.heatmap(cm[:20,:20],annot=False,cmap=\"Blues\",cbar=True)\n",
    "plt.title(\"Confusion Matrix\")\n",
    "plt.xlabel(\"Predicted\")\n",
    "plt.ylabel(\"True\")\n",
    "plt.show()"
   ]
  },
  {
   "cell_type": "code",
   "execution_count": null,
   "id": "a37937c6-8122-412f-b1b2-988662600c88",
   "metadata": {},
   "outputs": [],
   "source": [
    "#Accuracy Bar\n",
    "plt.bar([\"Naive Bayes\"],[accuracy_score(y_test,prediction)])\n",
    "plt.ylabel(\"Accuracy\")\n",
    "plt.title(\"Model Accuracy\")\n",
    "plt.show()"
   ]
  },
  {
   "cell_type": "code",
   "execution_count": null,
   "id": "30ef234a-77f3-4d6d-ba5e-6fb85f8437ea",
   "metadata": {},
   "outputs": [],
   "source": [
    "import joblib as jb\n",
    "import ipywidgets as wid\n",
    "from IPython.display import display"
   ]
  },
  {
   "cell_type": "code",
   "execution_count": null,
   "id": "29d721ff-8216-4eaf-8e67-7c8572b70417",
   "metadata": {},
   "outputs": [],
   "source": [
    "jb.dump(model,\"Predict_disease.joblib\")"
   ]
  },
  {
   "cell_type": "code",
   "execution_count": null,
   "id": "dec83324-8c39-4793-bedd-9986f52978c0",
   "metadata": {},
   "outputs": [],
   "source": [
    "model = jb.load(\"Predict_disease.joblib\")\n",
    "data = pd.read_csv(\"Final_Augmented_dataset_Diseases_and_Symptoms.csv\")\n",
    "X = data.drop(\"diseases\", axis=1)\n",
    "all_symptoms = X.columns.tolist()\n",
    "\n",
    "symptoms_box = wid.Text(\n",
    "    value=\"\",\n",
    "    placeholder=\"Enter symptoms separated by ,\",\n",
    "    description=\"Symptoms:\",\n",
    "    disabled=False\n",
    ")\n",
    "output = wid.Output()\n",
    "\n",
    "def on_submit(change):\n",
    "    with output:\n",
    "        output.clear_output()\n",
    "        user_text = change[\"new\"].strip()\n",
    "        \n",
    "        # Prevent empty input\n",
    "        if not user_text:\n",
    "            print(\" Please enter at least one symptom.\")\n",
    "            return\n",
    "        \n",
    "        # Process input symptoms\n",
    "        user_input = [s.strip().lower() for s in user_text.split(\",\") if s.strip()]\n",
    "        input_vector = pd.DataFrame([[1 if symptom.lower() in user_input else 0 for symptom in all_symptoms]], \n",
    "                                    columns=all_symptoms)\n",
    "        \n",
    "        # Predict disease\n",
    "        result = model.predict(input_vector)\n",
    "        print(\"Predicted Disease:\", result[0])\n",
    "\n",
    "# Only trigger on Enter key\n",
    "symptoms_box.observe(on_submit, names=\"value\")\n",
    "display(symptoms_box, output)"
   ]
  },
  {
   "cell_type": "code",
   "execution_count": null,
   "id": "142a7c9f-b63e-4a0f-819a-6e51b517e145",
   "metadata": {},
   "outputs": [],
   "source": []
  }
 ],
 "metadata": {
  "kernelspec": {
   "display_name": "Python 3 (ipykernel)",
   "language": "python",
   "name": "python3"
  },
  "language_info": {
   "codemirror_mode": {
    "name": "ipython",
    "version": 3
   },
   "file_extension": ".py",
   "mimetype": "text/x-python",
   "name": "python",
   "nbconvert_exporter": "python",
   "pygments_lexer": "ipython3",
   "version": "3.13.5"
  }
 },
 "nbformat": 4,
 "nbformat_minor": 5
}
